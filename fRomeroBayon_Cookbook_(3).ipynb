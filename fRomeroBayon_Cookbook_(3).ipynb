{
  "cells": [
    {
      "cell_type": "markdown",
      "metadata": {
        "id": "view-in-github",
        "colab_type": "text"
      },
      "source": [
        "<a href=\"https://colab.research.google.com/github/Raquelromerob/Project/blob/main/fRomeroBayon_Cookbook_(3).ipynb\" target=\"_parent\"><img src=\"https://colab.research.google.com/assets/colab-badge.svg\" alt=\"Open In Colab\"/></a>"
      ]
    },
    {
      "cell_type": "code",
      "execution_count": null,
      "metadata": {
        "colab": {
          "base_uri": "https://localhost:8080/"
        },
        "id": "5923a260",
        "outputId": "aed3d953-05e5-4c25-f9e9-b506535fb2f7"
      },
      "outputs": [
        {
          "output_type": "stream",
          "name": "stdout",
          "text": [
            "Welcome to Rachel's cookbook planning. Please select one option\n",
            "1: Load Cookbook\n",
            "2: Save Cookbook\n",
            "3: Exit\n"
          ]
        }
      ],
      "source": [
        "import json\n",
        "import pickle\n",
        "\n",
        "options= {\n",
        "    '1': 'Load Cookbook',\n",
        "    '2': 'Save Cookbook',\n",
        "    '3': 'Exit'\n",
        "}\n",
        "print (\"Welcome to Rachel's cookbook planning. Please select one option\")\n",
        "print('\\n'.join(\"{}: {}\".format(k, v) for k, v in options.items()))\n",
        "option=input()\n",
        "\n",
        "if int(option)==1:\n",
        "    with open('/content/sample_data/cookbook.txt', 'r') as f:\n",
        "        cook = f.read()\n",
        "    cookbook = json.loads(cook)\n",
        "    \n",
        "    # Print the available recipes\n",
        "    print(\"Available recipes:\")\n",
        "    for i, recipe in enumerate(cookbook):\n",
        "        print(f\"{i+1}. {recipe}\")\n",
        "\n",
        "    # Select the recipes to cook\n",
        "    selected_recipes = []\n",
        "    while True:\n",
        "        recipe_str = input(\"Enter the name of a recipe to cook (or nothing to finish selecting): \")\n",
        "        cook_lower =  {key.lower(): val for key, val in cookbook.items()}\n",
        "        if recipe_str == \"\":\n",
        "            print(\"Closing the program\")\n",
        "            break\n",
        "        try:\n",
        "            print (\"The ingredients for {} are {}\".format(str(recipe_str),cook_lower[str(recipe_str.lower())]))\n",
        "        \n",
        "        except :\n",
        "            print(\"Invalid input, please try again.\")\n",
        "            \n",
        "elif int(option)==2:\n",
        "    \n",
        "    recipes_save = {\n",
        "    'Spaghetti Bolognese': ['spaghetti', 'ground beef', 'tomato sauce', 'onion', 'garlic', 'olive oil', 'salt', 'pepper'],\n",
        "    'Chicken Stir Fry': ['chicken breast', 'broccoli', 'carrots', 'soy sauce', 'garlic', 'ginger', 'cornstarch', 'vegetable oil'],\n",
        "    'Baked Salmon': ['salmon fillet', 'lemon', 'dill', 'garlic', 'olive oil', 'salt', 'pepper']}\n",
        "    \n",
        "    print(\"Available recipes:\")\n",
        "    for i, recipe in enumerate(recipes_save):\n",
        "        print(f\"{i+1}. {recipe}\")\n",
        "\n",
        "    # Select the recipes to cook\n",
        "    selected_recipes = []\n",
        "    while True:\n",
        "        recipe_str = input(\"Enter the name of a recipe to cook (or nothing to finish selecting and save the cookbook into a file): \")\n",
        "        cook_lower =  {key.lower(): val for key, val in recipes_save.items()}\n",
        "        if recipe_str == \"\":\n",
        "            print(\"Closing the program\")\n",
        "        # open file for writing\n",
        "        f = open(\"/content/sample_data/rachel_cookbook.txt\",\"w\")\n",
        "        # write file\n",
        "        f.write( str(recipes_save) )\n",
        "        # close file\n",
        "        f.close()\n",
        "        break\n",
        "        try:\n",
        "            print (\"The ingredients for {} are {}\".format(str(recipe_str),cook_lower[str(recipe_str.lower())]))\n",
        "        \n",
        "        except :\n",
        "            print(\"Invalid input, please try again.\")\n",
        "    \n",
        "    \n",
        "    \n",
        "elif int(option)==3:\n",
        "    print(\"Exiting the program, if you want to load or save a cookbook execute it again\")\n",
        "    \n",
        "        \n",
        "\n",
        "\n",
        "        "
      ],
      "id": "5923a260"
    },
    {
      "cell_type": "code",
      "execution_count": null,
      "metadata": {
        "id": "55JwMftdJook"
      },
      "outputs": [],
      "source": [
        "from google.colab import drive\n",
        "drive.mount('/content/drive')"
      ],
      "id": "55JwMftdJook"
    },
    {
      "cell_type": "code",
      "execution_count": null,
      "metadata": {
        "colab": {
          "base_uri": "https://localhost:8080/"
        },
        "id": "4f0f68d7",
        "outputId": "90ef6c03-4dd6-42d6-b895-bf3098031aa7"
      },
      "outputs": [
        {
          "name": "stdout",
          "output_type": "stream",
          "text": [
            "/content\n"
          ]
        }
      ],
      "source": [
        "!pwd"
      ],
      "id": "4f0f68d7"
    }
  ],
  "metadata": {
    "colab": {
      "provenance": [],
      "include_colab_link": true
    },
    "kernelspec": {
      "display_name": "Python 3 (ipykernel)",
      "language": "python",
      "name": "python3"
    },
    "language_info": {
      "codemirror_mode": {
        "name": "ipython",
        "version": 3
      },
      "file_extension": ".py",
      "mimetype": "text/x-python",
      "name": "python",
      "nbconvert_exporter": "python",
      "pygments_lexer": "ipython3",
      "version": "3.7.11"
    }
  },
  "nbformat": 4,
  "nbformat_minor": 5
}